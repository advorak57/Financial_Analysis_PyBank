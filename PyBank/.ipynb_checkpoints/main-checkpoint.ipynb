{
 "cells": [
  {
   "cell_type": "code",
   "execution_count": 20,
   "id": "6fe0b132-3591-4eda-b0bb-5a066debb2d1",
   "metadata": {},
   "outputs": [],
   "source": [
    "\n",
    "# Create Dictionary for Financial Records\n",
    "monthlyProfitLoss = {\n",
    "\"Jan-2010\": 867884,\n",
    "\"Feb-2010\": 984655,\n",
    "\"Mar-2010\": 322013,\n",
    "\"Apr-2010\": -69417,\n",
    "\"May-2010\": 310503,\n",
    "\"Jun-2010\": 522857,\n",
    "\"Jul-2010\":1033096,\n",
    "\"Aug-2010\": 604885,\n",
    "\"Sep-2010\": -216386,\n",
    "\"Oct-2010\": 477532,\n",
    "\"Nov-2010\": 893810,\n",
    "\"Dec-2010\": -80353,\n",
    "\"Jan-2011\": 779806,\n",
    "\"Feb-2011\": -335203,\n",
    "\"Mar-2011\": 697845,\n",
    "\"Apr-2011\": 793163,\n",
    "\"May-2011\": 485070,\n",
    "\"Jun-2011\": 584122,\n",
    "\"Jul-2011\": 62729,\n",
    "\"Aug-2011\": 668179,\n",
    "\"Sep-2011\": 899906,\n",
    "\"Oct-2011\": 834719,\n",
    "\"Nov-2011\": 132003,\n",
    "\"Dec-2011\": 309978,\n",
    "\"Jan-2012\": -755566,\n",
    "\"Feb-2012\": 1170593,\n",
    "\"Mar-2012\": 252788,\n",
    "\"Apr-2012\": 1151518,\n",
    "\"May-2012\": 817256,\n",
    "\"Jun-2012\": 570757,\n",
    "\"Jul-2012\": 506702,\n",
    "\"Aug-2012\": -1022534,\n",
    "\"Sep-2012\": 475062,\n",
    "\"Oct-2012\": 779976,\n",
    "\"Nov-2012\": 144175,\n",
    "\"Dec-2012\": 542494,\n",
    "\"Jan-2013\": 359333,\n",
    "\"Feb-2013\": 321469,\n",
    "\"Mar-2013\": 67780,\n",
    "\"Apr-2013\": 471435,\n",
    "\"May-2013\": 565603,\n",
    "\"Jun-2013\": 872480,\n",
    "\"Jul-2013\": 789480,\n",
    "\"Aug-2013\": 999942,\n",
    "\"Sep-2013\": -1196225,\n",
    "\"Oct-2013\": 268997,\n",
    "\"Nov-2013\": -687986,\n",
    "\"Dec-2013\": 1150461,\n",
    "\"Jan-2014\": 682458,\n",
    "\"Feb-2014\": 617856,\n",
    "\"Mar-2014\": 824098,\n",
    "\"Apr-2014\": 581943,\n",
    "\"May-2014\": 132864,\n",
    "\"Jun-2014\": 448062,\n",
    "\"Jul-2014\": 689161,\n",
    "\"Aug-2014\": 800701,\n",
    "\"Sep-2014\": 1166643,\n",
    "\"Oct-2014\": 947333,\n",
    "\"Nov-2014\": 578668,\n",
    "\"Dec-2014\": 988505,\n",
    "\"Jan-2015\": 1139715,\n",
    "\"Feb-2015\": 1029471,\n",
    "\"Mar-2015\": 687533,\n",
    "\"Apr-2015\": -524626,\n",
    "\"May-2015\": 158620,\n",
    "\"Jun-2015\": 87795,\n",
    "\"Jul-2015\": 423389,\n",
    "\"Aug-2015\": 840723,\n",
    "\"Sep-2015\": 568529,\n",
    "\"Oct-2015\": 332067,\n",
    "\"Nov-2015\": 989499,\n",
    "\"Dec-2015\": 778237,\n",
    "\"Jan-2016\": 650000,\n",
    "\"Feb-2016\": -1100387,\n",
    "\"Mar-2016\": -174946,\n",
    "\"Apr-2016\": 757143,\n",
    "\"May-2016\": 445709,\n",
    "\"Jun-2016\": 712961,\n",
    "\"Jul-2016\": -1163797,\n",
    "\"Aug-2016\": 569899,\n",
    "\"Sep-2016\": 768450,\n",
    "\"Oct-2016\": 102685,\n",
    "\"Nov-2016\": 795914,\n",
    "\"Dec-2016\": 60988,\n",
    "\"Jan-2017\": 138230,\n",
    "\"Feb-2017\": 671099,}"
   ]
  },
  {
   "cell_type": "code",
   "execution_count": 40,
   "id": "584e0f19-400f-437e-a855-318b78d3f280",
   "metadata": {},
   "outputs": [
    {
     "name": "stdout",
     "output_type": "stream",
     "text": [
      "86\n"
     ]
    }
   ],
   "source": [
    "# Initialize Variables\n",
    "TotalProfitLoss = 0\n",
    "minimum = 0\n",
    "maximum = 0\n",
    "minimum_key = \"\"\n",
    "minimum_value = 0\n",
    "maximum_key = \"\"\n",
    "maximum_value = 0\n",
    "\n",
    "\n",
    "#The total number of months included in the dataset\n",
    "\n",
    "NumberOfMonths = len(monthlyProfitLoss)\n",
    "print(NumberOfMonths)"
   ]
  },
  {
   "cell_type": "code",
   "execution_count": 41,
   "id": "68293130-8be5-4387-b1d1-7e620b5bc2ae",
   "metadata": {},
   "outputs": [],
   "source": [
    "#The net total amount of Profit/Losses over the entire period\n",
    "for value in monthlyProfitLoss.values():\n",
    "    TotalProfitLoss += value\n"
   ]
  },
  {
   "cell_type": "code",
   "execution_count": 42,
   "id": "8666ab85-3ba4-4b28-8bb1-885f31060f49",
   "metadata": {},
   "outputs": [
    {
     "name": "stdout",
     "output_type": "stream",
     "text": [
      "-2315.12\n"
     ]
    }
   ],
   "source": [
    "#The average of the changes in Profit/Losses over the entire period\n",
    "def average_change(monthlyProfitLoss):\n",
    "    total_change = 0\n",
    "    previous_value = None\n",
    "    counted_months = 0 \n",
    "    for value in monthlyProfitLoss.values():\n",
    "        if previous_value is not None:\n",
    "            total_change += (value - previous_value)\n",
    "            counted_months += 1\n",
    "        previous_value = value\n",
    "    return total_change / counted_months\n",
    "\n",
    "Avg_Change = average_change(monthlyProfitLoss)\n",
    "print(round(Avg_Change, 2)) "
   ]
  },
  {
   "cell_type": "code",
   "execution_count": 43,
   "id": "aec21cdd-f6ff-402f-8851-50b9245d1034",
   "metadata": {},
   "outputs": [
    {
     "name": "stdout",
     "output_type": "stream",
     "text": [
      "Greatest increase: Feb-2012 ($1926159)\n"
     ]
    }
   ],
   "source": [
    "#The greatest increase in profits (date and amount) over the entire period\n",
    "\n",
    "# Initialize variables to track the greates increase and the corresponding month\n",
    "greatest_increase = 0\n",
    "change_month = \"\"\n",
    "\n",
    "# Iterate through dictionary, comparing each value to previous\n",
    "for i, (month, value) in enumerate(monthlyProfitLoss.items()):\n",
    "    if i > 0:\n",
    "        change = value - list(monthlyProfitLoss.values())[i-1]\n",
    "        \n",
    "        if change > greatest_increase:\n",
    "            greatest_increase = change\n",
    "            change_month = month\n",
    "\n",
    "# Print the results\n",
    "print(f\"Greatest increase: {change_month} (${greatest_increase})\")\n"
   ]
  },
  {
   "cell_type": "code",
   "execution_count": 44,
   "id": "dd66eed8-4732-470b-808e-1fb8ae0501b9",
   "metadata": {},
   "outputs": [
    {
     "name": "stdout",
     "output_type": "stream",
     "text": [
      "Greatest decrease: Sep-2013 ($-2196167)\n"
     ]
    }
   ],
   "source": [
    "#The greatest decrease in losses (date and amount) over the entire period\n",
    "\n",
    "# Initialize variables to track the greatest decrease and the corresponding month\n",
    "greatest_decrease = 0\n",
    "change_month1 = \"\"\n",
    "\n",
    "\n",
    "# Iterate through the dictionary, comparing each value to previous\n",
    "for i, (month, value) in enumerate(monthlyProfitLoss.items()):\n",
    "  if i > 0:\n",
    "    # Calculate the difference between the current value and the previous value\n",
    "    change = value - list(monthlyProfitLoss.values())[i-1]\n",
    "    \n",
    "    # Update the greatest change and corresponding months as needed\n",
    "    if change < greatest_decrease:\n",
    "      greatest_decrease = change\n",
    "      change_month1 = month\n",
    "\n",
    "# Print the results\n",
    "print(f\"Greatest decrease: {change_month1} (${greatest_decrease})\")\n"
   ]
  },
  {
   "cell_type": "code",
   "execution_count": 45,
   "id": "f52a3ed6-4ba1-4f74-8d4c-c49eed613fcc",
   "metadata": {},
   "outputs": [
    {
     "name": "stdout",
     "output_type": "stream",
     "text": [
      "Financial Analysis\n",
      "-----------------------------------\n",
      "The total number of months included in dataset: 86\n",
      "The total net profit over the entire period is: $38,382,578\n",
      "The average change in profit/loss is: $-2315.12\n",
      "Greatest increase: Feb-2012 ($1,926,159)\n",
      "Greatest decrease: Sep-2013 ($-2,196,167)\n"
     ]
    }
   ],
   "source": [
    "print(\"Financial Analysis\")\n",
    "print(\"-----------------------------------\")\n",
    "\n",
    "print(f\"The total number of months included in dataset: {NumberOfMonths}\")\n",
    "print(f\"The total net profit over the entire period is: ${TotalProfitLoss:,}\")\n",
    "print(f\"The average change in profit/loss is: ${round(Avg_Change, 2)}\")\n",
    "print(f\"Greatest increase: {change_month} (${greatest_increase:,})\")\n",
    "print(f\"Greatest decrease: {change_month1} (${greatest_decrease:,})\")"
   ]
  },
  {
   "cell_type": "code",
   "execution_count": null,
   "id": "c1f4b96b-ff0f-48c8-aaf7-ec282d7e858b",
   "metadata": {},
   "outputs": [],
   "source": []
  },
  {
   "cell_type": "code",
   "execution_count": null,
   "id": "8723f18b-065d-426d-ac04-14a98d650a37",
   "metadata": {},
   "outputs": [],
   "source": [
    "\n",
    "    "
   ]
  },
  {
   "cell_type": "code",
   "execution_count": 37,
   "id": "1e2d7a99-f85b-4f97-b436-aa6230da3e5e",
   "metadata": {},
   "outputs": [
    {
     "data": {
      "text/plain": [
       "'Jan-2010'"
      ]
     },
     "execution_count": 37,
     "metadata": {},
     "output_type": "execute_result"
    }
   ],
   "source": [
    "list(monthlyProfitLoss.keys())[0]"
   ]
  },
  {
   "cell_type": "code",
   "execution_count": null,
   "id": "a21c76fd-2064-4f5a-a4d0-db3f3c4ba971",
   "metadata": {},
   "outputs": [],
   "source": []
  }
 ],
 "metadata": {
  "kernelspec": {
   "display_name": "Python 3 (ipykernel)",
   "language": "python",
   "name": "python3"
  },
  "language_info": {
   "codemirror_mode": {
    "name": "ipython",
    "version": 3
   },
   "file_extension": ".py",
   "mimetype": "text/x-python",
   "name": "python",
   "nbconvert_exporter": "python",
   "pygments_lexer": "ipython3",
   "version": "3.7.15"
  }
 },
 "nbformat": 4,
 "nbformat_minor": 5
}
